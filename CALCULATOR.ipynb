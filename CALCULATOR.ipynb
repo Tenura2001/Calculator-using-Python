{
 "cells": [
  {
   "cell_type": "code",
   "execution_count": 9,
   "id": "92f0f9dd",
   "metadata": {},
   "outputs": [],
   "source": [
    "import tkinter"
   ]
  },
  {
   "cell_type": "code",
   "execution_count": 33,
   "id": "c23b4127",
   "metadata": {},
   "outputs": [],
   "source": [
    "window=tkinter.Tk()\n",
    "window.title(\"GUI\")\n",
    "window.geometry(\"500x400\")\n",
    "\n",
    "label1=tkinter.Label(window,text=\"Value 01  \",font=(\"Arial\",20))\n",
    "label1.grid(column=0,row=0)\n",
    "\n",
    "label2=tkinter.Label(window,text=\"Value 02  \",font=(\"Arial\",20))\n",
    "label2.grid(column=0,row=1)\n",
    "\n",
    "\n",
    "label3=tkinter.Label(window,text=\"    Answer : \",font=(\"Arial\",20))\n",
    "label3.grid(column=2,row=0)\n",
    "\n",
    "label4=tkinter.Label(window,text=\"\",font=(\"Arial\",20))\n",
    "label4.grid(column=3,row=0)\n",
    "\n",
    "def clickb1():\n",
    "    label4.config(text=str(float(txt1.get())+float(txt2.get())))\n",
    "def clickb2():\n",
    "    label4.config(text=str(float(txt1.get())-float(txt2.get())))\n",
    "def clickb3():\n",
    "    label4.config(text=str(float(txt1.get())*float(txt2.get())))    \n",
    "def clickb4():\n",
    "    label4.config(text=str(float(txt1.get())/float(txt2.get())))\n",
    "    \n",
    "    \n",
    "txt1=tkinter.Entry(window,width=5,font=30)\n",
    "txt1.grid(column=1,row=0)\n",
    "\n",
    "txt2=tkinter.Entry(window,width=5,font=30)\n",
    "txt2.grid(column=1,row=1)\n",
    "\n",
    "\n",
    "button1=tkinter.Button(window,text=\"+\",bg=\"Green\",fg=\"White\",font=10,command=clickb1)\n",
    "button1.grid(column=0,row=2)\n",
    "\n",
    "\n",
    "button2=tkinter.Button(window,text=\"-\",bg=\"Green\",fg=\"White\",font=10,command=clickb2)\n",
    "button2.grid(column=1,row=2)\n",
    "\n",
    "\n",
    "button3=tkinter.Button(window,text=\"x\",bg=\"Green\",fg=\"White\",font=10,command=clickb3)\n",
    "button3.grid(column=2,row=2)\n",
    "\n",
    "button4=tkinter.Button(window,text=\"/\",bg=\"Green\",fg=\"White\",font=10,command=clickb4)\n",
    "button4.grid(column=3,row=2)\n",
    "\n",
    "\n",
    "\n",
    "\n",
    "window.mainloop()"
   ]
  },
  {
   "cell_type": "code",
   "execution_count": null,
   "id": "10c6c3dc",
   "metadata": {},
   "outputs": [],
   "source": []
  }
 ],
 "metadata": {
  "kernelspec": {
   "display_name": "Python 3 (ipykernel)",
   "language": "python",
   "name": "python3"
  },
  "language_info": {
   "codemirror_mode": {
    "name": "ipython",
    "version": 3
   },
   "file_extension": ".py",
   "mimetype": "text/x-python",
   "name": "python",
   "nbconvert_exporter": "python",
   "pygments_lexer": "ipython3",
   "version": "3.9.13"
  }
 },
 "nbformat": 4,
 "nbformat_minor": 5
}
